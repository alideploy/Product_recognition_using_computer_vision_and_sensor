{
 "cells": [
  {
   "cell_type": "code",
   "execution_count": 1,
   "id": "cc825f9e",
   "metadata": {},
   "outputs": [
    {
     "data": {
      "text/plain": [
       "(     Image  Num_Contours  Num_Edges    Mean_Red  Mean_Green   Mean_Blue\n",
       " 0    0.jpg             1    1379040  119.874641  118.121433  129.385882\n",
       " 1    1.jpg             1    1453755  120.314832  118.462333  129.440868\n",
       " 2   10.jpg             1    1320645  119.339346  117.543088  128.582350\n",
       " 3  100.jpg             1    1001130  107.668029  108.692323  119.959861\n",
       " 4  101.jpg             1     992715  107.865713  109.130899  119.793188,\n",
       "        Num_Contours     Num_Edges    Mean_Red  Mean_Green   Mean_Blue\n",
       " count         244.0  2.440000e+02  244.000000  244.000000  244.000000\n",
       " mean            1.0  1.264135e+06  118.172655  117.061002  128.692465\n",
       " std             0.0  1.599472e+05    3.523292    2.770861    3.439887\n",
       " min             1.0  9.516600e+05  107.668029  108.692323  119.793188\n",
       " 25%             1.0  1.137491e+06  116.285769  114.988854  126.760224\n",
       " 50%             1.0  1.269900e+06  118.714037  117.394133  129.105558\n",
       " 75%             1.0  1.392236e+06  120.758545  118.704983  131.114861\n",
       " max             1.0  1.608540e+06  126.833028  124.319176  136.766502)"
      ]
     },
     "execution_count": 1,
     "metadata": {},
     "output_type": "execute_result"
    }
   ],
   "source": [
    "import ast\n",
    "import pandas as pd\n",
    "\n",
    "file_path = 'extracted_features.csv'  # Replace with the actual path to your file\n",
    "\n",
    "data = pd.read_csv(file_path)\n",
    "# Convert the Mean_Color from string to actual list of floats\n",
    "data['Mean_Color'] = data['Mean_Color'].apply(ast.literal_eval)\n",
    "\n",
    "# Extract R, G, B values into separate columns\n",
    "data[['Mean_Red', 'Mean_Green', 'Mean_Blue']] = pd.DataFrame(data['Mean_Color'].tolist(), index=data.index)\n",
    "\n",
    "# Drop the original Mean_Color and Text columns as they are not needed for analysis\n",
    "data_cleaned = data.drop(columns=['Mean_Color', 'Text'])\n",
    "\n",
    "# Display basic descriptive statistics for the numerical columns\n",
    "descriptive_stats = data_cleaned.describe()\n",
    "\n",
    "# Display the first few rows of the cleaned dataset and the descriptive statistics\n",
    "data_cleaned.head(), descriptive_stats\n"
   ]
  }
 ],
 "metadata": {
  "kernelspec": {
   "display_name": "Python 3 (ipykernel)",
   "language": "python",
   "name": "python3"
  },
  "language_info": {
   "codemirror_mode": {
    "name": "ipython",
    "version": 3
   },
   "file_extension": ".py",
   "mimetype": "text/x-python",
   "name": "python",
   "nbconvert_exporter": "python",
   "pygments_lexer": "ipython3",
   "version": "3.11.4"
  }
 },
 "nbformat": 4,
 "nbformat_minor": 5
}
